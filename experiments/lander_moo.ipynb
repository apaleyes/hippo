{
 "cells": [
  {
   "cell_type": "code",
   "execution_count": 8,
   "id": "f004aa05",
   "metadata": {},
   "outputs": [
    {
     "name": "stdout",
     "output_type": "stream",
     "text": [
      "The autoreload extension is already loaded. To reload it, use:\n",
      "  %reload_ext autoreload\n"
     ]
    }
   ],
   "source": [
    "%load_ext autoreload\n",
    "%autoreload 2\n",
    "%matplotlib inline\n",
    "\n",
    "\n",
    "import tensorflow as tf\n",
    "import numpy as np\n",
    "import trieste\n",
    "import gpflow\n",
    "import matplotlib.pyplot as plt\n",
    "\n",
    "\n",
    "import gym\n",
    "\n",
    "# env_name = \"LunarLander-v2\"\n",
    "# env = gym.make(env_name)\n",
    "\n",
    "# seed = 1793\n",
    "\n",
    "# np.random.seed(seed)\n",
    "# tf.random.set_seed(seed)\n",
    "# env.seed(seed)\n",
    "\n",
    "from lunar_lander.lunar_lander import LunarLander\n",
    "from lunar_lander.controller import demo_heuristic_lander\n",
    "\n",
    "\n",
    "\n",
    "\n",
    "from mo_penalization import MOLocalPenalizationAcquisitionFunction\n",
    "from trieste.acquisition.rule import EfficientGlobalOptimization\n",
    "from trieste.bayesian_optimizer import BayesianOptimizer\n",
    "from trieste.observer import OBJECTIVE"
   ]
  },
  {
   "cell_type": "code",
   "execution_count": 9,
   "id": "d4e5d482",
   "metadata": {},
   "outputs": [],
   "source": [
    "search_space = trieste.space.Box([0.0] * 12, [1.2] * 12)"
   ]
  },
  {
   "cell_type": "code",
   "execution_count": 12,
   "id": "f31fa452",
   "metadata": {},
   "outputs": [
    {
     "name": "stdout",
     "output_type": "stream",
     "text": [
      "DemoHeuristicResult: reward: -95.88, fuel: 1.83, steps: 82.0, crashed: True, timeout: False, is_in_helipad: True, success: False\n",
      "DemoHeuristicResult: reward: -104.54, fuel: 0.54, steps: 60.0, crashed: True, timeout: False, is_in_helipad: False, success: False\n",
      "DemoHeuristicResult: reward: -56.71, fuel: 8.10, steps: 58.0, crashed: True, timeout: False, is_in_helipad: False, success: False\n",
      "DemoHeuristicResult: reward: -0.51, fuel: 24.06, steps: 164.0, crashed: True, timeout: False, is_in_helipad: True, success: False\n",
      "DemoHeuristicResult: reward: -156.28, fuel: 7.14, steps: 82.0, crashed: True, timeout: False, is_in_helipad: False, success: False\n",
      "DemoHeuristicResult: reward: -107.65, fuel: 0.93, steps: 48.0, crashed: True, timeout: False, is_in_helipad: False, success: False\n",
      "DemoHeuristicResult: reward: 54.31, fuel: 14.70, steps: 84.0, crashed: True, timeout: False, is_in_helipad: True, success: False\n",
      "DemoHeuristicResult: reward: -75.39, fuel: 10.23, steps: 73.0, crashed: True, timeout: False, is_in_helipad: False, success: False\n",
      "DemoHeuristicResult: reward: -115.53, fuel: 0.60, steps: 58.0, crashed: True, timeout: False, is_in_helipad: True, success: False\n",
      "DemoHeuristicResult: reward: 51.50, fuel: 18.06, steps: 102.0, crashed: True, timeout: False, is_in_helipad: True, success: False\n"
     ]
    }
   ],
   "source": [
    "for _ in range(10):\n",
    "    sample_w = search_space.sample(1).numpy()[0]\n",
    "    demo_heuristic_lander(LunarLander(), sample_w, print_progress=False)"
   ]
  },
  {
   "cell_type": "code",
   "execution_count": 48,
   "id": "970504f0",
   "metadata": {},
   "outputs": [],
   "source": [
    "reward_max = 250.0\n",
    "reward_min = -350.0\n",
    "fuel_factor = 100.0\n",
    "\n",
    "N_RUNS = 10\n",
    "\n",
    "def lander_objective(x):\n",
    "    # for each point compute average reward and fuel consumed over N_RUNS runs\n",
    "    all_rewards = []\n",
    "    all_fuel = []\n",
    "    for w in x.numpy():\n",
    "        results = [demo_heuristic_lander(LunarLander(), w) for _ in range(N_RUNS)]\n",
    "        all_rewards.append([r.total_reward for r in results])\n",
    "        all_fuel.append([r.total_fuel for r in results])\n",
    "\n",
    "    rewards_tensor = tf.convert_to_tensor(all_rewards, dtype=tf.float64)\n",
    "    rewards_mean = tf.reshape(tf.math.reduce_mean(rewards_tensor, axis=1), (-1, 1))\n",
    "    fuel_tensor = tf.convert_to_tensor(all_fuel, dtype=tf.float64)\n",
    "    fuel_mean = tf.reshape(tf.math.reduce_mean(fuel_tensor, axis=1), (-1, 1))\n",
    "    \n",
    "\n",
    "    # normalizing these values is tricky\n",
    "    # we want them to be between 0 and 1\n",
    "    # but we have only rough idea of the min/max ranges\n",
    "    # reward seems to be between -350 and 250\n",
    "    # fuel is normally between 0 and 100 (actually in theory it can go to 1000*0.33=330, but this seems to never happen in practice)\n",
    "    \n",
    "    rewards_mean = (reward_max - rewards_mean)/(reward_max - reward_min)\n",
    "    fuel_mean = fuel_mean / fuel_factor\n",
    "    \n",
    "    objectives_tensor = tf.concat([rewards_mean, fuel_mean], axis=-1)\n",
    "    return objectives_tensor\n",
    "\n",
    "\n",
    "observer = trieste.objectives.utils.mk_observer(lander_objective)"
   ]
  },
  {
   "cell_type": "code",
   "execution_count": 31,
   "id": "c87fb9f6",
   "metadata": {},
   "outputs": [],
   "source": [
    "from trieste.models.gpflow import SparseVariational, build_svgp\n",
    "from trieste.models.interfaces import TrainablePredictJointReparamModelStack\n",
    "from trieste.data import Dataset\n",
    "\n",
    "def build_stacked_independent_objectives_model(data, n_obj):\n",
    "    models = []\n",
    "    for idx in range(n_obj):\n",
    "        single_obj_data = Dataset(\n",
    "            data.query_points, tf.gather(data.observations, [idx], axis=1)\n",
    "        )\n",
    "        svgp = build_svgp(initial_data, search_space)\n",
    "        models.append((SparseVariational(svgp), 1))\n",
    "\n",
    "    return TrainablePredictJointReparamModelStack(*models)"
   ]
  },
  {
   "cell_type": "code",
   "execution_count": null,
   "id": "9d99d236",
   "metadata": {
    "scrolled": false
   },
   "outputs": [],
   "source": [
    "N_STEPS = 100\n",
    "num_initial_points = 2 * search_space.dimension\n",
    "\n",
    "initial_query_points = search_space.sample(num_initial_points)\n",
    "initial_data = observer(initial_query_points)\n",
    "model = build_stacked_independent_objectives_model(initial_data, 2)\n",
    "\n",
    "acq_fn = MOLocalPenalizationAcquisitionFunction().using(OBJECTIVE)\n",
    "acq_rule = EfficientGlobalOptimization(acq_fn, num_query_points=20)\n",
    "\n",
    "optimizer = BayesianOptimizer(observer, search_space)\n",
    "result = optimizer.optimize(N_STEPS, initial_data, model, acq_rule)"
   ]
  },
  {
   "cell_type": "code",
   "execution_count": 45,
   "id": "ff4bf96e",
   "metadata": {},
   "outputs": [],
   "source": [
    "dataset = result.try_get_final_datasets()[OBJECTIVE]"
   ]
  },
  {
   "cell_type": "code",
   "execution_count": 52,
   "id": "153c1cb1",
   "metadata": {},
   "outputs": [],
   "source": [
    "np.savetxt(\"lunar_lander/n_steps_100_n_query_points_20_observations\", dataset.observations.numpy(), delimiter=',')\n",
    "np.savetxt(\"lunar_lander/n_steps_100_n_query_points_20_query_points\", dataset.query_points.numpy(), delimiter=',')"
   ]
  },
  {
   "cell_type": "code",
   "execution_count": 49,
   "id": "9caf694b",
   "metadata": {},
   "outputs": [],
   "source": [
    "reward_transformed = dataset.observations[:, 0]\n",
    "reward_original = reward_max - reward_transformed * (reward_max - reward_min)\n",
    "\n",
    "fuel_transformed = dataset.observations[:, 1]\n",
    "fuel_original = fuel_transformed * fuel_factor"
   ]
  },
  {
   "cell_type": "code",
   "execution_count": 50,
   "id": "8602d5e3",
   "metadata": {},
   "outputs": [
    {
     "data": {
      "text/plain": [
       "Text(0, 0.5, 'Fuel')"
      ]
     },
     "execution_count": 50,
     "metadata": {},
     "output_type": "execute_result"
    },
    {
     "data": {
      "image/png": "[encoded data removed]",
      "text/plain": [
       "<Figure size 432x288 with 1 Axes>"
      ]
     },
     "metadata": {
      "needs_background": "light"
     },
     "output_type": "display_data"
    }
   ],
   "source": [
    "plt.scatter(reward_original, fuel_original)\n",
    "plt.xlabel(\"Reward\")\n",
    "plt.ylabel(\"Fuel\")"
   ]
  },
  {
   "cell_type": "code",
   "execution_count": null,
   "id": "5a1140f0",
   "metadata": {},
   "outputs": [],
   "source": []
  }
 ],
 "metadata": {
  "kernelspec": {
   "display_name": "Python 3 (ipykernel)",
   "language": "python",
   "name": "python3"
  },
  "language_info": {
   "codemirror_mode": {
    "name": "ipython",
    "version": 3
   },
   "file_extension": ".py",
   "mimetype": "text/x-python",
   "name": "python",
   "nbconvert_exporter": "python",
   "pygments_lexer": "ipython3",
   "version": "3.8.10"
  }
 },
 "nbformat": 4,
 "nbformat_minor": 5
}
