{
 "cells": [
  {
   "cell_type": "code",
   "execution_count": 1,
   "id": "8915e1c3",
   "metadata": {},
   "outputs": [],
   "source": [
    "%matplotlib inline"
   ]
  },
  {
   "cell_type": "code",
   "execution_count": 11,
   "id": "c9602d07",
   "metadata": {},
   "outputs": [],
   "source": [
    "import numpy as np"
   ]
  },
  {
   "cell_type": "code",
   "execution_count": 2,
   "id": "00c91d39",
   "metadata": {},
   "outputs": [],
   "source": [
    "from pymoo.core.problem import Problem\n",
    "from pymoo.optimize import minimize\n",
    "from pymoo.algorithms.moo.nsga2 import NSGA2\n",
    "from pymoo.visualization.scatter import Scatter\n",
    "\n",
    "\n",
    "class PymooProblem(Problem):\n",
    "    def __init__(self, search_space, f, n_obj):\n",
    "        n_var = int(search_space.dimension)\n",
    "        xl = search_space.lower.numpy()\n",
    "        xu = search_space.upper.numpy()\n",
    "        \n",
    "        super().__init__(n_var=n_var, n_obj=n_obj, n_constr=0, xl=xl, xu=xu)\n",
    "        \n",
    "        self._f = f\n",
    "        \n",
    "    def _evaluate(self, x, out, *args, **kwargs):\n",
    "        out[\"F\"] = self._f(x)\n",
    "\n",
    "        \n",
    "def get_true_pf(problem, n_gen=1000):\n",
    "    algorithm = NSGA2(pop_size=100)\n",
    "    res = minimize(problem, algorithm, ('n_gen', n_gen), seed=1, verbose=False)\n",
    "\n",
    "    return res.F\n",
    "    \n",
    "def plot_pf(pf):\n",
    "    plot = Scatter()\n",
    "    plot.add(pf, facecolor=\"none\", edgecolor=\"red\")\n",
    "    plot.show()"
   ]
  },
  {
   "cell_type": "code",
   "execution_count": 3,
   "id": "984c24f2",
   "metadata": {},
   "outputs": [
    {
     "name": "stderr",
     "output_type": "stream",
     "text": [
      "2021-12-07 10:03:36.166932: W tensorflow/stream_executor/platform/default/dso_loader.cc:64] Could not load dynamic library 'libcudart.so.11.0'; dlerror: libcudart.so.11.0: cannot open shared object file: No such file or directory\n",
      "2021-12-07 10:03:36.166987: I tensorflow/stream_executor/cuda/cudart_stub.cc:29] Ignore above cudart dlerror if you do not have a GPU set up on your machine.\n",
      "2021-12-07 10:03:37.869197: W tensorflow/stream_executor/platform/default/dso_loader.cc:64] Could not load dynamic library 'libcuda.so.1'; dlerror: libcuda.so.1: cannot open shared object file: No such file or directory\n",
      "2021-12-07 10:03:37.869277: W tensorflow/stream_executor/cuda/cuda_driver.cc:269] failed call to cuInit: UNKNOWN ERROR (303)\n",
      "2021-12-07 10:03:37.869310: I tensorflow/stream_executor/cuda/cuda_diagnostics.cc:156] kernel driver does not appear to be running on this host (DESKTOP-MGDBU2G): /proc/driver/nvidia/version does not exist\n",
      "2021-12-07 10:03:37.869688: I tensorflow/core/platform/cpu_feature_guard.cc:151] This TensorFlow binary is optimized with oneAPI Deep Neural Network Library (oneDNN) to use the following CPU instructions in performance-critical operations:  AVX2 FMA\n",
      "To enable them in other operations, rebuild TensorFlow with the appropriate compiler flags.\n"
     ]
    }
   ],
   "source": [
    "import tensorflow as tf\n",
    "\n",
    "import trieste\n",
    "from trieste.objectives.single_objectives import hartmann_6, ackley_5\n",
    "from trieste.types import TensorType\n",
    "\n",
    "\n",
    "# Ackley funciton in Trieste is defined over 5d domain, and we want\n",
    "def ackley_6(x: TensorType) -> TensorType:\n",
    "    tf.debugging.assert_shapes([(x, (..., 6))])\n",
    "    \n",
    "    x_5d = x[..., :-1]\n",
    "\n",
    "    return ackley_5(x_5d)\n",
    "\n",
    "\n",
    "search_space = trieste.space.Box([0]*6, [1]*6)\n",
    "\n",
    "def f(x):\n",
    "    return tf.concat([hartmann_6(x), ackley_6(x)], axis=-1)"
   ]
  },
  {
   "cell_type": "code",
   "execution_count": 4,
   "id": "d017aaff",
   "metadata": {},
   "outputs": [],
   "source": [
    "problem = PymooProblem(search_space, f, n_obj=2)\n",
    "true_pf = get_true_pf(problem)\n",
    "plot_pf(true_pf)"
   ]
  },
  {
   "cell_type": "code",
   "execution_count": 5,
   "id": "d04ca10e",
   "metadata": {},
   "outputs": [],
   "source": [
    "import matplotlib.pyplot as plt"
   ]
  },
  {
   "cell_type": "code",
   "execution_count": 6,
   "id": "3433d367",
   "metadata": {},
   "outputs": [],
   "source": [
    "plt.show()"
   ]
  },
  {
   "cell_type": "code",
   "execution_count": 7,
   "id": "c570944e",
   "metadata": {},
   "outputs": [
    {
     "data": {
      "text/plain": [
       "<pymoo.visualization.scatter.Scatter at 0x7f5ea03b3f10>"
      ]
     },
     "execution_count": 7,
     "metadata": {},
     "output_type": "execute_result"
    },
    {
     "data": {
      "image/png": "[encoded data removed]",
      "text/plain": [
       "<Figure size 576x432 with 1 Axes>"
      ]
     },
     "metadata": {
      "needs_background": "light"
     },
     "output_type": "display_data"
    }
   ],
   "source": [
    "plot = Scatter()\n",
    "plot.add(true_pf, facecolor=\"none\", edgecolor=\"red\")\n",
    "plot.show()"
   ]
  },
  {
   "cell_type": "code",
   "execution_count": 15,
   "id": "1e95b72d",
   "metadata": {},
   "outputs": [
    {
     "data": {
      "text/plain": [
       "array([[-3.20315730e+00,  2.11065618e+01],\n",
       "       [-8.14089809e-01,  8.57914808e-03],\n",
       "       [-1.02117223e+00,  3.87895638e+00],\n",
       "       [-1.23110022e+00,  6.60164560e+00],\n",
       "       [-1.94026620e+00,  1.22633709e+01],\n",
       "       [-8.23735242e-01,  3.47590742e-01],\n",
       "       [-2.26872174e+00,  1.41760733e+01],\n",
       "       [-1.70488541e+00,  1.07850092e+01],\n",
       "       [-1.10952331e+00,  5.09982346e+00],\n",
       "       [-1.17622140e+00,  6.18713848e+00],\n",
       "       [-1.60543022e+00,  1.00730603e+01],\n",
       "       [-2.33745702e+00,  1.43169709e+01],\n",
       "       [-8.44179954e-01,  1.55965982e+00],\n",
       "       [-3.09345781e+00,  1.78679393e+01],\n",
       "       [-1.88796866e+00,  1.20563937e+01],\n",
       "       [-1.83419256e+00,  1.15874449e+01],\n",
       "       [-1.76867713e+00,  1.11987115e+01],\n",
       "       [-2.05203752e+00,  1.29410318e+01],\n",
       "       [-1.41696723e+00,  8.62590022e+00],\n",
       "       [-1.74229230e+00,  1.10654547e+01],\n",
       "       [-9.55844380e-01,  3.10413309e+00],\n",
       "       [-9.29766615e-01,  2.85300516e+00],\n",
       "       [-1.80673123e+00,  1.14783492e+01],\n",
       "       [-2.47546873e+00,  1.49059870e+01],\n",
       "       [-1.13293436e+00,  5.59844222e+00],\n",
       "       [-1.87545382e+00,  1.18535795e+01],\n",
       "       [-1.53075641e+00,  9.69108219e+00],\n",
       "       [-3.16952475e+00,  1.85995986e+01],\n",
       "       [-8.35528449e-01,  1.14762022e+00],\n",
       "       [-1.65248057e+00,  1.05108562e+01],\n",
       "       [-2.01585620e+00,  1.28823574e+01],\n",
       "       [-1.30177165e+00,  7.46932301e+00],\n",
       "       [-9.29294771e-01,  2.36912771e+00],\n",
       "       [-2.98326383e+00,  1.72203311e+01],\n",
       "       [-1.48806278e+00,  9.23356763e+00],\n",
       "       [-2.09252108e+00,  1.31844034e+01],\n",
       "       [-1.27915288e+00,  7.27462690e+00],\n",
       "       [-9.67049934e-01,  3.60439696e+00],\n",
       "       [-3.20314307e+00,  2.02892130e+01],\n",
       "       [-1.51628357e+00,  9.36013643e+00],\n",
       "       [-1.39211998e+00,  8.36459306e+00],\n",
       "       [-2.87552761e+00,  1.68148174e+01],\n",
       "       [-3.02430311e+00,  1.74782091e+01],\n",
       "       [-3.20315225e+00,  2.09900997e+01],\n",
       "       [-3.14151740e+00,  1.83273472e+01],\n",
       "       [-3.19597541e+00,  1.94573809e+01],\n",
       "       [-2.23677251e+00,  1.38837741e+01],\n",
       "       [-3.04606531e+00,  1.76108214e+01],\n",
       "       [-2.91930775e+00,  1.68838988e+01],\n",
       "       [-1.56885875e+00,  9.82995030e+00],\n",
       "       [-2.18037778e+00,  1.36201333e+01],\n",
       "       [-2.56471483e+00,  1.52808358e+01],\n",
       "       [-1.04263010e+00,  4.31166194e+00],\n",
       "       [-1.32867467e+00,  7.74611339e+00],\n",
       "       [-2.84076214e+00,  1.67496454e+01],\n",
       "       [-2.62381848e+00,  1.55598152e+01],\n",
       "       [-2.21152968e+00,  1.38705045e+01],\n",
       "       [-1.98746047e+00,  1.25081421e+01],\n",
       "       [-3.20257957e+00,  1.97400973e+01],\n",
       "       [-2.43983983e+00,  1.47684737e+01],\n",
       "       [-1.45627603e+00,  9.01502079e+00],\n",
       "       [-1.44990080e+00,  8.83246228e+00],\n",
       "       [-1.16899940e+00,  5.96777642e+00],\n",
       "       [-2.72823531e+00,  1.60966631e+01],\n",
       "       [-2.67234912e+00,  1.57845493e+01],\n",
       "       [-2.80824534e+00,  1.63550771e+01],\n",
       "       [-1.14266536e+00,  5.76958504e+00],\n",
       "       [-3.18531109e+00,  1.90780821e+01],\n",
       "       [-2.82760879e+00,  1.64721727e+01],\n",
       "       [-2.12232334e+00,  1.34677592e+01],\n",
       "       [-1.65693094e+00,  1.05580623e+01],\n",
       "       [-2.15572069e+00,  1.35661781e+01],\n",
       "       [-1.26374559e+00,  6.94376091e+00],\n",
       "       [-2.66184619e+00,  1.56834395e+01],\n",
       "       [-2.51161811e+00,  1.52176303e+01],\n",
       "       [-2.40914138e+00,  1.47493680e+01],\n",
       "       [-2.92499072e+00,  1.71781681e+01],\n",
       "       [-1.05352368e+00,  4.79084155e+00],\n",
       "       [-2.50846590e+00,  1.51251872e+01],\n",
       "       [-1.25666990e+00,  6.81379032e+00],\n",
       "       [-1.35181158e+00,  7.80954533e+00],\n",
       "       [-1.99236427e+00,  1.25570022e+01],\n",
       "       [-3.17968352e+00,  1.89158056e+01],\n",
       "       [-2.36251890e+00,  1.44043024e+01],\n",
       "       [-9.65253502e-01,  3.51373748e+00],\n",
       "       [-3.11541911e+00,  1.79917165e+01],\n",
       "       [-9.02146063e-01,  2.18350969e+00],\n",
       "       [-1.04576993e+00,  4.45045290e+00],\n",
       "       [-8.86553024e-01,  1.75111826e+00],\n",
       "       [-3.12122418e+00,  1.82107813e+01],\n",
       "       [-1.58110819e+00,  1.00456203e+01],\n",
       "       [-8.86545484e-01,  1.74950593e+00],\n",
       "       [-1.36833593e+00,  8.02592962e+00],\n",
       "       [-2.95564367e+00,  1.72067749e+01],\n",
       "       [-2.76532934e+00,  1.61981997e+01],\n",
       "       [-3.20307147e+00,  2.01389431e+01],\n",
       "       [-1.37633056e+00,  8.15548208e+00],\n",
       "       [-2.11587120e+00,  1.32407583e+01],\n",
       "       [-2.59632678e+00,  1.54992311e+01],\n",
       "       [-2.76584638e+00,  1.63198255e+01]])"
      ]
     },
     "execution_count": 15,
     "metadata": {},
     "output_type": "execute_result"
    }
   ],
   "source": [
    "true_pf"
   ]
  },
  {
   "cell_type": "code",
   "execution_count": 12,
   "id": "008a30e8",
   "metadata": {},
   "outputs": [],
   "source": [
    "np.savetxt(\"hartmann_ackley_6.csv\", true_pf, delimiter=\",\")"
   ]
  },
  {
   "cell_type": "code",
   "execution_count": 13,
   "id": "482716db",
   "metadata": {},
   "outputs": [],
   "source": [
    "read_pf = np.genfromtxt('hartmann_ackley_6.csv', delimiter=',')"
   ]
  },
  {
   "cell_type": "code",
   "execution_count": 16,
   "id": "860c910f",
   "metadata": {},
   "outputs": [
    {
     "data": {
      "text/plain": [
       "array([[ True,  True],\n",
       "       [ True,  True],\n",
       "       [ True,  True],\n",
       "       [ True,  True],\n",
       "       [ True,  True],\n",
       "       [ True,  True],\n",
       "       [ True,  True],\n",
       "       [ True,  True],\n",
       "       [ True,  True],\n",
       "       [ True,  True],\n",
       "       [ True,  True],\n",
       "       [ True,  True],\n",
       "       [ True,  True],\n",
       "       [ True,  True],\n",
       "       [ True,  True],\n",
       "       [ True,  True],\n",
       "       [ True,  True],\n",
       "       [ True,  True],\n",
       "       [ True,  True],\n",
       "       [ True,  True],\n",
       "       [ True,  True],\n",
       "       [ True,  True],\n",
       "       [ True,  True],\n",
       "       [ True,  True],\n",
       "       [ True,  True],\n",
       "       [ True,  True],\n",
       "       [ True,  True],\n",
       "       [ True,  True],\n",
       "       [ True,  True],\n",
       "       [ True,  True],\n",
       "       [ True,  True],\n",
       "       [ True,  True],\n",
       "       [ True,  True],\n",
       "       [ True,  True],\n",
       "       [ True,  True],\n",
       "       [ True,  True],\n",
       "       [ True,  True],\n",
       "       [ True,  True],\n",
       "       [ True,  True],\n",
       "       [ True,  True],\n",
       "       [ True,  True],\n",
       "       [ True,  True],\n",
       "       [ True,  True],\n",
       "       [ True,  True],\n",
       "       [ True,  True],\n",
       "       [ True,  True],\n",
       "       [ True,  True],\n",
       "       [ True,  True],\n",
       "       [ True,  True],\n",
       "       [ True,  True],\n",
       "       [ True,  True],\n",
       "       [ True,  True],\n",
       "       [ True,  True],\n",
       "       [ True,  True],\n",
       "       [ True,  True],\n",
       "       [ True,  True],\n",
       "       [ True,  True],\n",
       "       [ True,  True],\n",
       "       [ True,  True],\n",
       "       [ True,  True],\n",
       "       [ True,  True],\n",
       "       [ True,  True],\n",
       "       [ True,  True],\n",
       "       [ True,  True],\n",
       "       [ True,  True],\n",
       "       [ True,  True],\n",
       "       [ True,  True],\n",
       "       [ True,  True],\n",
       "       [ True,  True],\n",
       "       [ True,  True],\n",
       "       [ True,  True],\n",
       "       [ True,  True],\n",
       "       [ True,  True],\n",
       "       [ True,  True],\n",
       "       [ True,  True],\n",
       "       [ True,  True],\n",
       "       [ True,  True],\n",
       "       [ True,  True],\n",
       "       [ True,  True],\n",
       "       [ True,  True],\n",
       "       [ True,  True],\n",
       "       [ True,  True],\n",
       "       [ True,  True],\n",
       "       [ True,  True],\n",
       "       [ True,  True],\n",
       "       [ True,  True],\n",
       "       [ True,  True],\n",
       "       [ True,  True],\n",
       "       [ True,  True],\n",
       "       [ True,  True],\n",
       "       [ True,  True],\n",
       "       [ True,  True],\n",
       "       [ True,  True],\n",
       "       [ True,  True],\n",
       "       [ True,  True],\n",
       "       [ True,  True],\n",
       "       [ True,  True],\n",
       "       [ True,  True],\n",
       "       [ True,  True],\n",
       "       [ True,  True]])"
      ]
     },
     "execution_count": 16,
     "metadata": {},
     "output_type": "execute_result"
    }
   ],
   "source": [
    "read_pf == true_pf"
   ]
  },
  {
   "cell_type": "code",
   "execution_count": null,
   "id": "ebe08058",
   "metadata": {},
   "outputs": [],
   "source": []
  }
 ],
 "metadata": {
  "kernelspec": {
   "display_name": "Python 3 (ipykernel)",
   "language": "python",
   "name": "python3"
  },
  "language_info": {
   "codemirror_mode": {
    "name": "ipython",
    "version": 3
   },
   "file_extension": ".py",
   "mimetype": "text/x-python",
   "name": "python",
   "nbconvert_exporter": "python",
   "pygments_lexer": "ipython3",
   "version": "3.8.10"
  }
 },
 "nbformat": 4,
 "nbformat_minor": 5
}
